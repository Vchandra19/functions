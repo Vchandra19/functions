{
  "nbformat": 4,
  "nbformat_minor": 0,
  "metadata": {
    "colab": {
      "provenance": []
    },
    "kernelspec": {
      "name": "python3",
      "display_name": "Python 3"
    },
    "language_info": {
      "name": "python"
    }
  },
  "cells": [
    {
      "cell_type": "markdown",
      "source": [
        "Q1. Create an arrow function called square that takes a number as an argument and returns its square. Use the arrow function to calculate the square of a given number and display the result.\n",
        "?\n",
        "\n",
        "Ans:"
      ],
      "metadata": {
        "id": "GVw5IcTCfOo1"
      }
    },
    {
      "cell_type": "code",
      "source": [
        "const square = (number) => number * number;\n",
        "\n",
        "// Example usage:\n",
        "const num = 5;\n",
        "const result = square(num);\n",
        "console.log(The square of ${num} is: ${result}); // Output: The square of 5 is: 25\n"
      ],
      "metadata": {
        "id": "PQxozJHzfXax"
      },
      "execution_count": null,
      "outputs": []
    },
    {
      "cell_type": "markdown",
      "source": [
        "Q2. Create a JavaScript function called generateGreeting that takes a name as an argument and returns a personalized greeting message. Use this function to greet three different people.\n",
        "\n",
        "\n",
        "Ans"
      ],
      "metadata": {
        "id": "rRvFatDTfZod"
      }
    },
    {
      "cell_type": "code",
      "source": [
        "function generateGreeting(name) {\n",
        "  return Hello, ${name}! Welcome aboard.;\n",
        "}\n",
        "\n",
        "// Example usage:\n",
        "console.log(generateGreeting(\"Alice\"));\n",
        "console.log(generateGreeting(\"Bob\"));\n",
        "console.log(generateGreeting(\"Charlie\"));\n",
        "\n"
      ],
      "metadata": {
        "id": "73fr9tNvffy5"
      },
      "execution_count": null,
      "outputs": []
    },
    {
      "cell_type": "markdown",
      "source": [
        "Q3. Create an IIFE (Immediately Invoked Function Expression) that calculates the square of a number and immediately displays the result.\n",
        "\n",
        "Ans:"
      ],
      "metadata": {
        "id": "MoTzl2HefkaV"
      }
    },
    {
      "cell_type": "code",
      "source": [
        "(function() {\n",
        "  const number = 7;\n",
        "  const square = number * number;\n",
        "  console.log(The square of ${number} (calculated by IIFE) is: ${square}); // Output: The square of 7 (calculated by IIFE) is: 49\n",
        "})();\n"
      ],
      "metadata": {
        "id": "4KwOWvE3fot8"
      },
      "execution_count": null,
      "outputs": []
    },
    {
      "cell_type": "markdown",
      "source": [
        "Q4. Write a JavaScript function called calculateTax that takes an income as an argument and returns the amount of tax to be paid. Use a closure to handle different tax rates based on income ranges. Test the function with various incomes.\n",
        "\n",
        "\n",
        "Ans:"
      ],
      "metadata": {
        "id": "y1cniI8dfsz_"
      }
    },
    {
      "cell_type": "code",
      "source": [
        "function calculateTax() {\n",
        "  const taxRates = {\n",
        "    slab1: { min: 0, max: 250000, rate: 0.05 },    // 5% for income up to 2.5 Lakhs\n",
        "    slab2: { min: 250001, max: 500000, rate: 0.10 }, // 10% for income up to 5 Lakhs\n",
        "    slab3: { min: 500001, max: 1000000, rate: 0.20 },// 20% for income up to 10 Lakhs\n",
        "    slab4: { min: 1000001, max: Infinity, rate: 0.30 } // 30% for income above 10 Lakhs\n",
        "  };\n",
        "\n",
        "  return function(income) {\n",
        "    let tax = 0;\n",
        "    if (income <= taxRates.slab1.max) {\n",
        "      tax = income * taxRates.slab1.rate;\n",
        "    } else if (income <= taxRates.slab2.max) {\n",
        "      tax = (taxRates.slab1.max * taxRates.slab1.rate) +\n",
        "            ((income - taxRates.slab1.max) * taxRates.slab2.rate);\n",
        "    } else if (income <= taxRates.slab3.max) {\n",
        "      tax = (taxRates.slab1.max * taxRates.slab1.rate) +\n",
        "            ((taxRates.slab2.max - taxRates.slab1.max) * taxRates.slab2.rate) +\n",
        "            ((income - taxRates.slab2.max) * taxRates.slab3.rate);\n",
        " } else {\n",
        "      tax = (taxRates.slab1.max * taxRates.slab1.rate) +\n",
        "            ((taxRates.slab2.max - taxRates.slab1.max) * taxRates.slab2.rate) +\n",
        "            ((taxRates.slab3.max - taxRates.slab2.max) * taxRates.slab3.rate) +\n",
        "            ((income - taxRates.slab3.max) * taxRates.slab4.rate);\n",
        "    }\n",
        "    return tax;\n",
        "  };\n",
        "}\n",
        "\n",
        "const calculateIncomeTax = calculateTax();\n",
        "// Test with various incomes:\n",
        "console.log(Tax for income 200000: ${calculateIncomeTax(200000)});   // Output: 10000 (5% of 200000)\n",
        "console.log(Tax for income 400000: ${calculateIncomeTax(400000)});   // Output: 10000 (slab1) + 15000 (10% of 150000) = 25000\n",
        "console.log(Tax for income 750000: ${calculateIncomeTax(750000)});   // Output: 10000 + 25000 + 50000 = 85000\n",
        "console.log(Tax for income 1500000: ${calculateIncomeTax(1500000)}); // Output: 10000 + 25000 + 100000 + 150000 = 285000\n",
        "console.log(Tax for income 0: ${calculateIncomeTax(0)});             // Output: 0\n",
        "\n"
      ],
      "metadata": {
        "id": "Q0MhWTumf0i3"
      },
      "execution_count": null,
      "outputs": []
    },
    {
      "cell_type": "markdown",
      "source": [
        "Q5. Write a JavaScript function called factorial that calculates the factorial of a non-negative integer using recursion. Test the function with different inputs.\n",
        "\n",
        "\n",
        "Ans:"
      ],
      "metadata": {
        "id": "vfybHBfegJtr"
      }
    },
    {
      "cell_type": "code",
      "source": [
        "function factorial(n) {\n",
        "  if (n < 0) {\n",
        "    return \"Factorial is not defined for negative numbers.\";\n",
        "  }\n",
        "  if (n === 0 || n === 1) {\n",
        "    return 1;\n",
        "  }\n",
        "  return n * factorial(n - 1);\n",
        "}\n",
        "\n",
        "// Test with different inputs:\n",
        "console.log(Factorial of 5: ${factorial(5)});   // Output: 120\n",
        "console.log(Factorial of 0: ${factorial(0)});   // Output: 1\n",
        "console.log(Factorial of 1: ${factorial(1)});   // Output: 1\n",
        "console.log(Factorial of 7: ${factorial(7)});   // Output: 5040\n",
        "console.log(Factorial of -3: ${factorial(-3)}); // Output: Factorial is not defined for negative numbers.\n",
        "\n"
      ],
      "metadata": {
        "id": "Qqf-pzsNgQEk"
      },
      "execution_count": null,
      "outputs": []
    },
    {
      "cell_type": "markdown",
      "source": [
        "Q6. Write a JavaScript function called curry that takes a function as an argument and returns a curried version of that function. The curried function should accept arguments one at a time and return a new function until all arguments are provided. Then, it should execute the original function with all arguments. Test the curry function with a function that adds two numbers.\n",
        "\n",
        "\n",
        "Ans:"
      ],
      "metadata": {
        "id": "Eat0H2ZTgDz-"
      }
    },
    {
      "cell_type": "code",
      "source": [
        "function curry(func) {\n",
        "  return function curried(...args) {\n",
        "    if (args.length >= func.length) {\n",
        "      return func(...args);\n",
        "    } else {\n",
        "      return function(...nextArgs) {\n",
        "        return curried(...args, ...nextArgs);\n",
        "      };\n",
        "    }\n",
        "  };\n",
        "}\n",
        "\n",
        "// Function to add two numbers\n",
        "function add(a, b) {\n",
        "  return a + b;\n",
        "}\n",
        "\n",
        "// Test the curry function\n",
        "const curriedAdd = curry(add);\n",
        "\n",
        "console.log(curriedAdd(2)(3));      // Output: 5\n",
        "console.log(curriedAdd(10)(20));    // Output: 30\n",
        "\n",
        "const addFive = curriedAdd(5);\n",
        "console.log(addFive(7));            // Output: 12\n",
        "console.log(addFive(15));           // Output: 20\n",
        "// You can also pass multiple arguments at once if the curried function is called with enough arguments\n",
        "console.log(curriedAdd(1, 2));      // Output: 3"
      ],
      "metadata": {
        "id": "DnH1dcIMgi3G"
      },
      "execution_count": null,
      "outputs": []
    }
  ]
}